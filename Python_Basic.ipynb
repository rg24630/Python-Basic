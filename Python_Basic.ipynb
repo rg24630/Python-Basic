{
  "nbformat": 4,
  "nbformat_minor": 0,
  "metadata": {
    "colab": {
      "provenance": []
    },
    "kernelspec": {
      "name": "python3",
      "display_name": "Python 3"
    },
    "language_info": {
      "name": "python"
    }
  },
  "cells": [
    {
      "cell_type": "markdown",
      "source": [
        "Python Basic"
      ],
      "metadata": {
        "id": "WAXBBicqKlzO"
      }
    },
    {
      "cell_type": "markdown",
      "source": [
        "1.What is Python, and why is it popular ?\n",
        "    -->Python is a very flexible high-level programming language that prioritizes readability and usability. Python's popularity and success can be attributed to its wide range of libraries and design modules for various purposes, robust community support and easy-to-understand syntax."
      ],
      "metadata": {
        "id": "xnwk22dyaztv"
      }
    },
    {
      "cell_type": "markdown",
      "source": [
        "2.What is an interpreter in Python?\n",
        "   -->A program that converts high-level statements into machine language statements is called a Python interpreter. When you write a command in a script or command file, the interpreter converts it into computer-understandable code."
      ],
      "metadata": {
        "id": "xtMI4u8-baDt"
      }
    },
    {
      "cell_type": "markdown",
      "source": [
        "3.What are pre-defined keywords in Python ?\n",
        " -->In Python, keywords are reserved language constructs with a specific meaning and purpose. Since keywords are a part of the language construct of syntax and structure, you cannot use them as identifiers e.g., names of variables, names of functions, etc."
      ],
      "metadata": {
        "id": "G5OXycX3cBMt"
      }
    },
    {
      "cell_type": "markdown",
      "source": [
        "4.Can keywords be used as variable names?\n",
        "-->No, in programming languages, keywords cannot be used as variable names."
      ],
      "metadata": {
        "id": "W97yxqWvcWtv"
      }
    },
    {
      "cell_type": "markdown",
      "source": [
        "5.What is mutability in Python?\n",
        "-->In Python, mutability is the ability to modify an object's value after it has been created. Immutable objects cannot be changed, but mutable objects can."
      ],
      "metadata": {
        "id": "y60MqbygcnfD"
      }
    },
    {
      "cell_type": "markdown",
      "source": [
        "6.Why are lists mutable, but tuples are immutable?\n",
        "-->Lists are mutable because you can change the order of items in a list or reassign an item in a list and tuples are immutable because its order of items can not be modified."
      ],
      "metadata": {
        "id": "4zDJcAoudfAg"
      }
    },
    {
      "cell_type": "markdown",
      "source": [
        "7.What is the difference between “==” and “is” operators in Python?\n",
        "-->The '==' is known as the equality operator. The 'is' is known as the identity operator. The == operator helps us compare the equality of objects. The \"is\" operator helps us check whether different variables point towards a similar object in the memory."
      ],
      "metadata": {
        "id": "w65vV_c2eWie"
      }
    },
    {
      "cell_type": "markdown",
      "source": [
        "8.What are logical operators in Python?\n",
        "-->Logical operators in Python are used to combine or modify boolean expressions, resulting in a final boolean value of either True or False."
      ],
      "metadata": {
        "id": "4X7i3jDDe_gu"
      }
    },
    {
      "cell_type": "markdown",
      "source": [
        "9.What is type casting in Python?\n",
        "-->The process of changing a variable's data type from one type to another is called type casting, or type conversion. This is frequently required when carrying out operations that call for particular data types or when you need to represent data in a different format."
      ],
      "metadata": {
        "id": "EtjrZ6TLfTvR"
      }
    },
    {
      "cell_type": "markdown",
      "source": [
        "10.What is the difference between implicit and explicit type casting?\n",
        "-->Implicit type casting is automatically performed by the compiler when a smaller data type is converted to a larger one. Explicit type casting requires the programmer to explicitly convert a larger data type to a smaller one."
      ],
      "metadata": {
        "id": "Y8TT4x9Ofiwi"
      }
    },
    {
      "cell_type": "markdown",
      "source": [
        "11.What is the purpose of conditional statements in Python ?\n",
        "-->Conditional statements in Python are used to control the flow of execution based on whether certain conditions are met. They allow a program to make decisions and execute different blocks of code based on those decisions."
      ],
      "metadata": {
        "id": "OXgtiVzcgEB6"
      }
    },
    {
      "cell_type": "markdown",
      "source": [
        "12.How does the elif statement work ?\n",
        "-->The “elif” keyword in Python, stands for “else if”. It can be used in conditional statements to check for multiple conditions. For example, if the first condition is false, it moves on to the next “elif” statement to check if that condition is true."
      ],
      "metadata": {
        "id": "JPAM0RlPgYLy"
      }
    },
    {
      "cell_type": "markdown",
      "source": [
        "13.What is the difference between for and while loops ?\n",
        "-->The primary difference between for and while loops lies in their purpose and the nature of their execution. for loops are typically used when you know how many times you want to iterate or when you need to process each element of a sequence, while while loops are used when you want to repeat a block of code until a certain condition is met, which may not be a predetermined number of times."
      ],
      "metadata": {
        "id": "OEpeKqXDgheq"
      }
    },
    {
      "cell_type": "markdown",
      "source": [
        "14.Describe a scenario where a while loop is more suitable than a for loop.\n",
        "-->In programming, for loops are best used when you know the number of iterations ahead of time, whereas a while loop is best used when you don't know the number of iterations in advance"
      ],
      "metadata": {
        "id": "xatJXauMgyvl"
      }
    },
    {
      "cell_type": "code",
      "source": [
        "# 1.Write a Python program to print \"Hello, World!\"\n",
        "print(\"Hello, World!\")"
      ],
      "metadata": {
        "colab": {
          "base_uri": "https://localhost:8080/"
        },
        "id": "9Dp54MBAhCMJ",
        "outputId": "51773907-ed96-4a80-baae-b017650deb23"
      },
      "execution_count": 3,
      "outputs": [
        {
          "output_type": "stream",
          "name": "stdout",
          "text": [
            "Hello, World!\n"
          ]
        }
      ]
    },
    {
      "cell_type": "code",
      "source": [
        "# 2.Write a Python program that displays your name and age.\n",
        "name = \"Rohit Gupta\"\n",
        "age = 32\n",
        "print(\"Name:\", name)\n",
        "print(\"Age:\" , age)"
      ],
      "metadata": {
        "colab": {
          "base_uri": "https://localhost:8080/"
        },
        "id": "ZbERU5fzhkAs",
        "outputId": "7b0622b6-b0d1-4a29-b9f3-46d147df1b9d"
      },
      "execution_count": 6,
      "outputs": [
        {
          "output_type": "stream",
          "name": "stdout",
          "text": [
            "Name: Rohit Gupta\n",
            "Age: 32\n"
          ]
        }
      ]
    },
    {
      "cell_type": "code",
      "source": [
        "# 3. Write code to print all the pre-defined keywords in Python using the keyword library.\n",
        "import keyword\n",
        "print(keyword.kwlist)"
      ],
      "metadata": {
        "colab": {
          "base_uri": "https://localhost:8080/"
        },
        "id": "lblUmohnitMe",
        "outputId": "5512203e-02eb-4f24-fe71-e55d264ba243"
      },
      "execution_count": 7,
      "outputs": [
        {
          "output_type": "stream",
          "name": "stdout",
          "text": [
            "['False', 'None', 'True', 'and', 'as', 'assert', 'async', 'await', 'break', 'class', 'continue', 'def', 'del', 'elif', 'else', 'except', 'finally', 'for', 'from', 'global', 'if', 'import', 'in', 'is', 'lambda', 'nonlocal', 'not', 'or', 'pass', 'raise', 'return', 'try', 'while', 'with', 'yield']\n"
          ]
        }
      ]
    },
    {
      "cell_type": "code",
      "source": [
        "# 4.Write a program that checks if a given word is a Python keyword.\n",
        "import keyword\n",
        "word = \"for\"\n",
        "if keyword.iskeyword(word):\n",
        "  print(f\"'{word}', is a python keyword\")\n",
        "else:\n",
        "  print(f\"'{word}', is not a python keyword\")"
      ],
      "metadata": {
        "colab": {
          "base_uri": "https://localhost:8080/"
        },
        "id": "TKnXB7MQi35B",
        "outputId": "9790b831-ca04-48ca-cc42-720a7cc650ed"
      },
      "execution_count": 12,
      "outputs": [
        {
          "output_type": "stream",
          "name": "stdout",
          "text": [
            "'for', is a python keyword\n"
          ]
        }
      ]
    },
    {
      "cell_type": "code",
      "source": [
        "# 5. Create a list and tuple in Python, and demonstrate how attempting to change an element works differently for each.\n",
        "\n",
        "List1 = [1, 2, 3]\n",
        "# Modify the list\n",
        "List1[0] = 10\n",
        "print(\"Modified List1:\", List1)\n",
        "\n",
        "tuple1 = (1, 2, 3)\n",
        "# Modify the tuple\n",
        "tuple1[0] = 10\n",
        "print(\"Modified tuple1:\",tuple1 )"
      ],
      "metadata": {
        "colab": {
          "base_uri": "https://localhost:8080/",
          "height": 211
        },
        "id": "eQ8grI69lKLS",
        "outputId": "ab0a32ea-b75f-4840-8c4c-a1f4a92c6e4f"
      },
      "execution_count": 18,
      "outputs": [
        {
          "output_type": "stream",
          "name": "stdout",
          "text": [
            "Modified List1: [10, 2, 3]\n"
          ]
        },
        {
          "output_type": "error",
          "ename": "TypeError",
          "evalue": "'tuple' object does not support item assignment",
          "traceback": [
            "\u001b[0;31m---------------------------------------------------------------------------\u001b[0m",
            "\u001b[0;31mTypeError\u001b[0m                                 Traceback (most recent call last)",
            "\u001b[0;32m<ipython-input-18-65a1dd2aec9a>\u001b[0m in \u001b[0;36m<cell line: 0>\u001b[0;34m()\u001b[0m\n\u001b[1;32m      8\u001b[0m \u001b[0mtuple1\u001b[0m \u001b[0;34m=\u001b[0m \u001b[0;34m(\u001b[0m\u001b[0;36m1\u001b[0m\u001b[0;34m,\u001b[0m \u001b[0;36m2\u001b[0m\u001b[0;34m,\u001b[0m \u001b[0;36m3\u001b[0m\u001b[0;34m)\u001b[0m\u001b[0;34m\u001b[0m\u001b[0;34m\u001b[0m\u001b[0m\n\u001b[1;32m      9\u001b[0m \u001b[0;31m# Modify the tuple\u001b[0m\u001b[0;34m\u001b[0m\u001b[0;34m\u001b[0m\u001b[0m\n\u001b[0;32m---> 10\u001b[0;31m \u001b[0mtuple1\u001b[0m\u001b[0;34m[\u001b[0m\u001b[0;36m0\u001b[0m\u001b[0;34m]\u001b[0m \u001b[0;34m=\u001b[0m \u001b[0;36m10\u001b[0m\u001b[0;34m\u001b[0m\u001b[0;34m\u001b[0m\u001b[0m\n\u001b[0m\u001b[1;32m     11\u001b[0m \u001b[0mprint\u001b[0m\u001b[0;34m(\u001b[0m\u001b[0;34m\"Modified tuple1:\"\u001b[0m\u001b[0;34m,\u001b[0m\u001b[0mtuple1\u001b[0m \u001b[0;34m)\u001b[0m\u001b[0;34m\u001b[0m\u001b[0;34m\u001b[0m\u001b[0m\n",
            "\u001b[0;31mTypeError\u001b[0m: 'tuple' object does not support item assignment"
          ]
        }
      ]
    },
    {
      "cell_type": "code",
      "source": [
        "# 7. Write a program that performs basic arithmetic operations on two user-input numbers?\n",
        "num1 = float(input(\"Enter the first number: \"))\n",
        "num2 = float(input(\"Enter the second number: \"))\n",
        "\n",
        "add = num1+num2\n",
        "subtract = num1-num2\n",
        "multiply = num1*num2\n",
        "divide = num1//num2\n",
        "\n",
        "print(\"Addition of number:\", add)\n",
        "print(\"Subtraction of number:\", subtract)\n",
        "print(\"Multiplicationof number:\", multiply)\n",
        "print(\"Division of number:\", divide)"
      ],
      "metadata": {
        "colab": {
          "base_uri": "https://localhost:8080/"
        },
        "id": "U19Ig_RKm--_",
        "outputId": "4151c347-8896-4b52-b8ea-3f7ec41f400c"
      },
      "execution_count": 31,
      "outputs": [
        {
          "output_type": "stream",
          "name": "stdout",
          "text": [
            "Enter the first number: 10\n",
            "Enter the second number: 5\n",
            "Addition of number: 15.0\n",
            "Subtraction of number: 5.0\n",
            "Multiplicationof number: 50.0\n",
            "Division of number: 2.0\n"
          ]
        }
      ]
    },
    {
      "cell_type": "code",
      "source": [
        "# 8.Write a program to demonstrate the use of logical operators\n",
        "\n",
        "#AND operator\n",
        "a = 1\n",
        "b = 2\n",
        "print(\"And operator output:\" , a==b and b>1)\n",
        "print(\"OR operator output:\" , a==b or b>1)\n",
        "print(\"Not operator output:\" , not(a==b or b>1))\n"
      ],
      "metadata": {
        "colab": {
          "base_uri": "https://localhost:8080/"
        },
        "id": "_y2ZZpNxp9_d",
        "outputId": "ac384a65-eb17-4a95-8be4-5f3ba53ea608"
      },
      "execution_count": 53,
      "outputs": [
        {
          "output_type": "stream",
          "name": "stdout",
          "text": [
            "And operator output: False\n",
            "OR operator output: True\n",
            "Not operator output: False\n"
          ]
        }
      ]
    },
    {
      "cell_type": "code",
      "source": [
        "# 9. Write a Python program to convert user input from string to integer, float, and boolean types.\n",
        "\n",
        "z = input(\"Enter the number: \")\n",
        "num_int = int(z)\n",
        "num_float =float(z)\n",
        "num_bool = bool(z)\n",
        "print(num_int)\n",
        "print(num_float)\n",
        "print(num_bool)"
      ],
      "metadata": {
        "colab": {
          "base_uri": "https://localhost:8080/"
        },
        "id": "hu-PZ-r1u2bS",
        "outputId": "52c817f7-dafc-4c0b-b5a0-20c3875fe3b1"
      },
      "execution_count": 61,
      "outputs": [
        {
          "output_type": "stream",
          "name": "stdout",
          "text": [
            "Enter the number: 11\n",
            "11\n",
            "11.0\n",
            "True\n"
          ]
        }
      ]
    },
    {
      "cell_type": "code",
      "source": [
        "# 10.Write code to demonstrate type casting with list elements\n",
        "a = 7\n",
        "print(type(a))\n",
        "\n",
        "b = 3.0\n",
        "print(type(b))\n"
      ],
      "metadata": {
        "colab": {
          "base_uri": "https://localhost:8080/"
        },
        "id": "2MDc6f40xpmJ",
        "outputId": "324cc9ec-38d8-4cad-c0d7-454dd159ba7c"
      },
      "execution_count": 62,
      "outputs": [
        {
          "output_type": "stream",
          "name": "stdout",
          "text": [
            "<class 'int'>\n",
            "<class 'float'>\n"
          ]
        }
      ]
    },
    {
      "cell_type": "code",
      "source": [
        "# 11. Write a program that checks if a number is positive, negative, or zero.\n",
        "num = int(input(\"Enter a number: \"))\n",
        "if num > 0:\n",
        "   print(\"Positive number\")\n",
        "elif num == 0:\n",
        "   print(\"Zero\")\n",
        "else:\n",
        "   print(\"Negative number\")\n",
        "\n",
        "\n"
      ],
      "metadata": {
        "colab": {
          "base_uri": "https://localhost:8080/"
        },
        "id": "Ekq152VeyDhA",
        "outputId": "430b128d-88f4-4e67-ca9e-51a5bb071e71"
      },
      "execution_count": 64,
      "outputs": [
        {
          "output_type": "stream",
          "name": "stdout",
          "text": [
            "Enter a number: -3\n",
            "Negative number\n"
          ]
        }
      ]
    },
    {
      "cell_type": "code",
      "source": [
        "# 12.Write a for loop to print numbers from 1 to 10.\n",
        "\n",
        "for i in range(1, 11):\n",
        "    print(i)"
      ],
      "metadata": {
        "colab": {
          "base_uri": "https://localhost:8080/"
        },
        "id": "f7HiE1tSyda0",
        "outputId": "b389ebfb-a2a2-4c72-b4f1-84bfa3a65b94"
      },
      "execution_count": 65,
      "outputs": [
        {
          "output_type": "stream",
          "name": "stdout",
          "text": [
            "1\n",
            "2\n",
            "3\n",
            "4\n",
            "5\n",
            "6\n",
            "7\n",
            "8\n",
            "9\n",
            "10\n"
          ]
        }
      ]
    },
    {
      "cell_type": "code",
      "source": [
        "# 13. Write a Python program to find the sum of all even numbers between 1 and 50\n",
        "total = 0\n",
        "for number in range(2, 51, 2):\n",
        "    total += number\n",
        "print(total)"
      ],
      "metadata": {
        "colab": {
          "base_uri": "https://localhost:8080/"
        },
        "id": "CXbHAn2Bynhb",
        "outputId": "a2f7785e-aad7-45e9-fe97-7ed060c783a1"
      },
      "execution_count": 66,
      "outputs": [
        {
          "output_type": "stream",
          "name": "stdout",
          "text": [
            "650\n"
          ]
        }
      ]
    },
    {
      "cell_type": "code",
      "source": [
        "# 14. Write a program to reverse a string using a while loop.\n",
        "\n",
        "name= str((input(\"Enter the name: \")))\n",
        "i = len(name)-1\n",
        "\n",
        "while i >= 0:\n",
        "    print(name[i], end = '')\n",
        "    i = i - 1"
      ],
      "metadata": {
        "colab": {
          "base_uri": "https://localhost:8080/"
        },
        "id": "TgPIKxxMy3AT",
        "outputId": "40a5f658-1ed0-4a21-c170-c7042b080271"
      },
      "execution_count": 89,
      "outputs": [
        {
          "output_type": "stream",
          "name": "stdout",
          "text": [
            "Enter the name: rohit\n",
            "tihor"
          ]
        }
      ]
    },
    {
      "cell_type": "code",
      "source": [
        "# 15. Write a Python program to calculate the factorial of a number provided by the user using a while loop\n",
        "\n",
        "number = int(input(\"Enter a number: \"))\n",
        "factorial = 1\n",
        "while number > 0:\n",
        "        factorial = factorial * number\n",
        "        number = number - 1\n",
        "print(\"The factorial is\", factorial)\n",
        ""
      ],
      "metadata": {
        "colab": {
          "base_uri": "https://localhost:8080/"
        },
        "id": "9TsQN48Uzl0K",
        "outputId": "88be1785-a5b3-49b8-ab14-d75cc2d87446"
      },
      "execution_count": 87,
      "outputs": [
        {
          "output_type": "stream",
          "name": "stdout",
          "text": [
            "Enter a number: 5\n",
            "The factorial is 120\n"
          ]
        }
      ]
    }
  ]
}